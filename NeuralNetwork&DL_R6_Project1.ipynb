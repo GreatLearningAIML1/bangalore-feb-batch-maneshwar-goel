{
  "nbformat": 4,
  "nbformat_minor": 0,
  "metadata": {
    "colab": {
      "name": "NeuralNetwork&DL_R6_Project1.ipynb",
      "version": "0.3.2",
      "provenance": [],
      "collapsed_sections": []
    },
    "kernelspec": {
      "name": "python3",
      "display_name": "Python 3"
    }
  },
  "cells": [
    {
      "cell_type": "code",
      "metadata": {
        "id": "eiNH7so03UdX",
        "colab_type": "code",
        "colab": {}
      },
      "source": [
        "import pandas as pd\n",
        "import numpy as np"
      ],
      "execution_count": 0,
      "outputs": []
    },
    {
      "cell_type": "code",
      "metadata": {
        "id": "gHzQkv7p3eTj",
        "colab_type": "code",
        "outputId": "51d43107-dc23-4c73-d775-931c876c3a55",
        "colab": {
          "base_uri": "https://localhost:8080/",
          "height": 131
        }
      },
      "source": [
        "from google.colab import drive\n",
        "drive.mount('/content/gdrive')"
      ],
      "execution_count": 2,
      "outputs": [
        {
          "output_type": "stream",
          "text": [
            "Go to this URL in a browser: https://accounts.google.com/o/oauth2/auth?client_id=947318989803-6bn6qk8qdgf4n4g3pfee6491hc0brc4i.apps.googleusercontent.com&redirect_uri=urn%3Aietf%3Awg%3Aoauth%3A2.0%3Aoob&scope=email%20https%3A%2F%2Fwww.googleapis.com%2Fauth%2Fdocs.test%20https%3A%2F%2Fwww.googleapis.com%2Fauth%2Fdrive%20https%3A%2F%2Fwww.googleapis.com%2Fauth%2Fdrive.photos.readonly%20https%3A%2F%2Fwww.googleapis.com%2Fauth%2Fpeopleapi.readonly&response_type=code\n",
            "\n",
            "Enter your authorization code:\n",
            "··········\n",
            "Mounted at /content/gdrive\n"
          ],
          "name": "stdout"
        }
      ]
    },
    {
      "cell_type": "code",
      "metadata": {
        "id": "OmfcHYmV3hZP",
        "colab_type": "code",
        "colab": {}
      },
      "source": [
        "data = pd.read_csv('/content/gdrive/My Drive/bank (1).csv')"
      ],
      "execution_count": 0,
      "outputs": []
    },
    {
      "cell_type": "code",
      "metadata": {
        "id": "lVlEHbMy5sun",
        "colab_type": "code",
        "outputId": "dc8f4129-58a1-485e-c83c-bbb6d1f60cfb",
        "colab": {
          "base_uri": "https://localhost:8080/",
          "height": 226
        }
      },
      "source": [
        "data.head()"
      ],
      "execution_count": 4,
      "outputs": [
        {
          "output_type": "execute_result",
          "data": {
            "text/html": [
              "<div>\n",
              "<style scoped>\n",
              "    .dataframe tbody tr th:only-of-type {\n",
              "        vertical-align: middle;\n",
              "    }\n",
              "\n",
              "    .dataframe tbody tr th {\n",
              "        vertical-align: top;\n",
              "    }\n",
              "\n",
              "    .dataframe thead th {\n",
              "        text-align: right;\n",
              "    }\n",
              "</style>\n",
              "<table border=\"1\" class=\"dataframe\">\n",
              "  <thead>\n",
              "    <tr style=\"text-align: right;\">\n",
              "      <th></th>\n",
              "      <th>RowNumber</th>\n",
              "      <th>CustomerId</th>\n",
              "      <th>Surname</th>\n",
              "      <th>CreditScore</th>\n",
              "      <th>Geography</th>\n",
              "      <th>Gender</th>\n",
              "      <th>Age</th>\n",
              "      <th>Tenure</th>\n",
              "      <th>Balance</th>\n",
              "      <th>NumOfProducts</th>\n",
              "      <th>HasCrCard</th>\n",
              "      <th>IsActiveMember</th>\n",
              "      <th>EstimatedSalary</th>\n",
              "      <th>Exited</th>\n",
              "    </tr>\n",
              "  </thead>\n",
              "  <tbody>\n",
              "    <tr>\n",
              "      <th>0</th>\n",
              "      <td>1</td>\n",
              "      <td>15634602</td>\n",
              "      <td>Hargrave</td>\n",
              "      <td>619</td>\n",
              "      <td>France</td>\n",
              "      <td>Female</td>\n",
              "      <td>42</td>\n",
              "      <td>2</td>\n",
              "      <td>0.00</td>\n",
              "      <td>1</td>\n",
              "      <td>1</td>\n",
              "      <td>1</td>\n",
              "      <td>101348.88</td>\n",
              "      <td>1</td>\n",
              "    </tr>\n",
              "    <tr>\n",
              "      <th>1</th>\n",
              "      <td>2</td>\n",
              "      <td>15647311</td>\n",
              "      <td>Hill</td>\n",
              "      <td>608</td>\n",
              "      <td>Spain</td>\n",
              "      <td>Female</td>\n",
              "      <td>41</td>\n",
              "      <td>1</td>\n",
              "      <td>83807.86</td>\n",
              "      <td>1</td>\n",
              "      <td>0</td>\n",
              "      <td>1</td>\n",
              "      <td>112542.58</td>\n",
              "      <td>0</td>\n",
              "    </tr>\n",
              "    <tr>\n",
              "      <th>2</th>\n",
              "      <td>3</td>\n",
              "      <td>15619304</td>\n",
              "      <td>Onio</td>\n",
              "      <td>502</td>\n",
              "      <td>France</td>\n",
              "      <td>Female</td>\n",
              "      <td>42</td>\n",
              "      <td>8</td>\n",
              "      <td>159660.80</td>\n",
              "      <td>3</td>\n",
              "      <td>1</td>\n",
              "      <td>0</td>\n",
              "      <td>113931.57</td>\n",
              "      <td>1</td>\n",
              "    </tr>\n",
              "    <tr>\n",
              "      <th>3</th>\n",
              "      <td>4</td>\n",
              "      <td>15701354</td>\n",
              "      <td>Boni</td>\n",
              "      <td>699</td>\n",
              "      <td>France</td>\n",
              "      <td>Female</td>\n",
              "      <td>39</td>\n",
              "      <td>1</td>\n",
              "      <td>0.00</td>\n",
              "      <td>2</td>\n",
              "      <td>0</td>\n",
              "      <td>0</td>\n",
              "      <td>93826.63</td>\n",
              "      <td>0</td>\n",
              "    </tr>\n",
              "    <tr>\n",
              "      <th>4</th>\n",
              "      <td>5</td>\n",
              "      <td>15737888</td>\n",
              "      <td>Mitchell</td>\n",
              "      <td>850</td>\n",
              "      <td>Spain</td>\n",
              "      <td>Female</td>\n",
              "      <td>43</td>\n",
              "      <td>2</td>\n",
              "      <td>125510.82</td>\n",
              "      <td>1</td>\n",
              "      <td>1</td>\n",
              "      <td>1</td>\n",
              "      <td>79084.10</td>\n",
              "      <td>0</td>\n",
              "    </tr>\n",
              "  </tbody>\n",
              "</table>\n",
              "</div>"
            ],
            "text/plain": [
              "   RowNumber  CustomerId   Surname  ...  IsActiveMember EstimatedSalary Exited\n",
              "0          1    15634602  Hargrave  ...               1       101348.88      1\n",
              "1          2    15647311      Hill  ...               1       112542.58      0\n",
              "2          3    15619304      Onio  ...               0       113931.57      1\n",
              "3          4    15701354      Boni  ...               0        93826.63      0\n",
              "4          5    15737888  Mitchell  ...               1        79084.10      0\n",
              "\n",
              "[5 rows x 14 columns]"
            ]
          },
          "metadata": {
            "tags": []
          },
          "execution_count": 4
        }
      ]
    },
    {
      "cell_type": "code",
      "metadata": {
        "id": "OXoV3djTAYIZ",
        "colab_type": "code",
        "outputId": "2ec90f27-881d-4972-f47d-e7cb116e144f",
        "colab": {
          "base_uri": "https://localhost:8080/",
          "height": 375
        }
      },
      "source": [
        "data.info()"
      ],
      "execution_count": 5,
      "outputs": [
        {
          "output_type": "stream",
          "text": [
            "<class 'pandas.core.frame.DataFrame'>\n",
            "RangeIndex: 10000 entries, 0 to 9999\n",
            "Data columns (total 14 columns):\n",
            "RowNumber          10000 non-null int64\n",
            "CustomerId         10000 non-null int64\n",
            "Surname            10000 non-null object\n",
            "CreditScore        10000 non-null int64\n",
            "Geography          10000 non-null object\n",
            "Gender             10000 non-null object\n",
            "Age                10000 non-null int64\n",
            "Tenure             10000 non-null int64\n",
            "Balance            10000 non-null float64\n",
            "NumOfProducts      10000 non-null int64\n",
            "HasCrCard          10000 non-null int64\n",
            "IsActiveMember     10000 non-null int64\n",
            "EstimatedSalary    10000 non-null float64\n",
            "Exited             10000 non-null int64\n",
            "dtypes: float64(2), int64(9), object(3)\n",
            "memory usage: 1.1+ MB\n"
          ],
          "name": "stdout"
        }
      ]
    },
    {
      "cell_type": "code",
      "metadata": {
        "id": "MYSpoCcqqEwG",
        "colab_type": "code",
        "colab": {}
      },
      "source": [
        "#Seperating features and output as array"
      ],
      "execution_count": 0,
      "outputs": []
    },
    {
      "cell_type": "code",
      "metadata": {
        "id": "_k2_yK9YBc7o",
        "colab_type": "code",
        "colab": {}
      },
      "source": [
        "X = data.iloc[:, 3:13].values"
      ],
      "execution_count": 0,
      "outputs": []
    },
    {
      "cell_type": "code",
      "metadata": {
        "id": "v5z1VAelbPiA",
        "colab_type": "code",
        "colab": {}
      },
      "source": [
        "y = data.iloc[:, 13].values"
      ],
      "execution_count": 0,
      "outputs": []
    },
    {
      "cell_type": "code",
      "metadata": {
        "id": "QD7gJOQSbSLs",
        "colab_type": "code",
        "outputId": "f2eaccb3-7e6d-4773-d1b6-e9c7188bd624",
        "colab": {
          "base_uri": "https://localhost:8080/",
          "height": 149
        }
      },
      "source": [
        "print (X)"
      ],
      "execution_count": 13,
      "outputs": [
        {
          "output_type": "stream",
          "text": [
            "[[619 'France' 'Female' ... 1 1 101348.88]\n",
            " [608 'Spain' 'Female' ... 0 1 112542.58]\n",
            " [502 'France' 'Female' ... 1 0 113931.57]\n",
            " ...\n",
            " [709 'France' 'Female' ... 0 1 42085.58]\n",
            " [772 'Germany' 'Male' ... 1 0 92888.52]\n",
            " [792 'France' 'Female' ... 1 0 38190.78]]\n"
          ],
          "name": "stdout"
        }
      ]
    },
    {
      "cell_type": "code",
      "metadata": {
        "id": "bFNFwCgAbUy-",
        "colab_type": "code",
        "outputId": "9dfb05cb-6a12-49f9-9e7f-6b069520e5df",
        "colab": {
          "base_uri": "https://localhost:8080/",
          "height": 36
        }
      },
      "source": [
        "print (y)"
      ],
      "execution_count": 14,
      "outputs": [
        {
          "output_type": "stream",
          "text": [
            "[1 0 1 ... 1 1 0]\n"
          ],
          "name": "stdout"
        }
      ]
    },
    {
      "cell_type": "code",
      "metadata": {
        "id": "B4X8rSGhcQM_",
        "colab_type": "code",
        "colab": {}
      },
      "source": [
        "from sklearn.preprocessing import LabelEncoder, OneHotEncoder"
      ],
      "execution_count": 0,
      "outputs": []
    },
    {
      "cell_type": "code",
      "metadata": {
        "id": "P6AXEcTMcq9k",
        "colab_type": "code",
        "colab": {}
      },
      "source": [
        "Xt = LabelEncoder()"
      ],
      "execution_count": 0,
      "outputs": []
    },
    {
      "cell_type": "code",
      "metadata": {
        "id": "U19n7Y1jcxTr",
        "colab_type": "code",
        "colab": {}
      },
      "source": [
        "X[:, 1] = Xt.fit_transform(X[:, 1])"
      ],
      "execution_count": 0,
      "outputs": []
    },
    {
      "cell_type": "code",
      "metadata": {
        "id": "-Np60WKfc3om",
        "colab_type": "code",
        "colab": {}
      },
      "source": [
        "Xt2 = LabelEncoder()"
      ],
      "execution_count": 0,
      "outputs": []
    },
    {
      "cell_type": "code",
      "metadata": {
        "id": "7assppP_c-kq",
        "colab_type": "code",
        "colab": {}
      },
      "source": [
        "X[:, 2] = Xt2.fit_transform(X[:, 2])"
      ],
      "execution_count": 0,
      "outputs": []
    },
    {
      "cell_type": "code",
      "metadata": {
        "id": "rxwxvxJGdGPF",
        "colab_type": "code",
        "outputId": "17001137-34ce-430d-9296-72c3c64fe615",
        "colab": {
          "base_uri": "https://localhost:8080/",
          "height": 150
        }
      },
      "source": [
        "onehotencoder = OneHotEncoder(categorical_features = [1])\n",
        "X = onehotencoder.fit_transform(X).toarray()\n",
        "X = X[:, 1:]"
      ],
      "execution_count": 21,
      "outputs": [
        {
          "output_type": "stream",
          "text": [
            "/usr/local/lib/python3.6/dist-packages/sklearn/preprocessing/_encoders.py:415: FutureWarning: The handling of integer data will change in version 0.22. Currently, the categories are determined based on the range [0, max(values)], while in the future they will be determined based on the unique values.\n",
            "If you want the future behaviour and silence this warning, you can specify \"categories='auto'\".\n",
            "In case you used a LabelEncoder before this OneHotEncoder to convert the categories to integers, then you can now use the OneHotEncoder directly.\n",
            "  warnings.warn(msg, FutureWarning)\n",
            "/usr/local/lib/python3.6/dist-packages/sklearn/preprocessing/_encoders.py:451: DeprecationWarning: The 'categorical_features' keyword is deprecated in version 0.20 and will be removed in 0.22. You can use the ColumnTransformer instead.\n",
            "  \"use the ColumnTransformer instead.\", DeprecationWarning)\n"
          ],
          "name": "stderr"
        }
      ]
    },
    {
      "cell_type": "markdown",
      "metadata": {
        "id": "mLMvCCU4cRb5",
        "colab_type": "text"
      },
      "source": [
        "since geography  and gender cannot be converted to float while doing a fit transform we are converting the geography into a categorical varible\n"
      ]
    },
    {
      "cell_type": "code",
      "metadata": {
        "id": "I3KO3TF2b0vi",
        "colab_type": "code",
        "colab": {}
      },
      "source": [
        "from sklearn.model_selection import train_test_split"
      ],
      "execution_count": 0,
      "outputs": []
    },
    {
      "cell_type": "code",
      "metadata": {
        "id": "a7Yl4ATEb5V4",
        "colab_type": "code",
        "colab": {}
      },
      "source": [
        "X_train, X_test, y_train, y_test = train_test_split(X, y, test_size = 0.2, random_state = 0)"
      ],
      "execution_count": 0,
      "outputs": []
    },
    {
      "cell_type": "code",
      "metadata": {
        "id": "9aFgjVNjb7V9",
        "colab_type": "code",
        "colab": {}
      },
      "source": [
        "from sklearn.preprocessing import StandardScaler"
      ],
      "execution_count": 0,
      "outputs": []
    },
    {
      "cell_type": "code",
      "metadata": {
        "id": "kToTnPntb-BY",
        "colab_type": "code",
        "colab": {}
      },
      "source": [
        "sc = StandardScaler()"
      ],
      "execution_count": 0,
      "outputs": []
    },
    {
      "cell_type": "code",
      "metadata": {
        "id": "R6mQKARUcB6D",
        "colab_type": "code",
        "colab": {}
      },
      "source": [
        "X_train = sc.fit_transform(X_train)\n",
        "X_test = sc.transform(X_test)"
      ],
      "execution_count": 0,
      "outputs": []
    },
    {
      "cell_type": "code",
      "metadata": {
        "id": "kL3s9C1udSI4",
        "colab_type": "code",
        "colab": {
          "base_uri": "https://localhost:8080/",
          "height": 36
        },
        "outputId": "9aa35225-2f21-479c-9a2b-11ba5988b49f"
      },
      "source": [
        "import keras\n",
        "from keras.models import Sequential\n",
        "from keras.layers import Dense"
      ],
      "execution_count": 27,
      "outputs": [
        {
          "output_type": "stream",
          "text": [
            "Using TensorFlow backend.\n"
          ],
          "name": "stderr"
        }
      ]
    },
    {
      "cell_type": "code",
      "metadata": {
        "id": "6dNpi2bKdUbK",
        "colab_type": "code",
        "outputId": "f9d27db1-0740-4f56-e0ca-17e58ba740e1",
        "colab": {
          "base_uri": "https://localhost:8080/",
          "height": 150
        }
      },
      "source": [
        "model = Sequential()\n",
        "model.add(Dense(output_dim = 6, init = 'uniform', activation = 'relu', input_dim = 11))\n",
        "model.add(Dense(output_dim = 6, init = 'uniform', activation = 'relu'))\n",
        "model.add(Dense(output_dim = 1, init = 'uniform', activation = 'sigmoid'))"
      ],
      "execution_count": 29,
      "outputs": [
        {
          "output_type": "stream",
          "text": [
            "/usr/local/lib/python3.6/dist-packages/ipykernel_launcher.py:2: UserWarning: Update your `Dense` call to the Keras 2 API: `Dense(activation=\"relu\", input_dim=11, units=6, kernel_initializer=\"uniform\")`\n",
            "  \n",
            "/usr/local/lib/python3.6/dist-packages/ipykernel_launcher.py:3: UserWarning: Update your `Dense` call to the Keras 2 API: `Dense(activation=\"relu\", units=6, kernel_initializer=\"uniform\")`\n",
            "  This is separate from the ipykernel package so we can avoid doing imports until\n",
            "/usr/local/lib/python3.6/dist-packages/ipykernel_launcher.py:4: UserWarning: Update your `Dense` call to the Keras 2 API: `Dense(activation=\"sigmoid\", units=1, kernel_initializer=\"uniform\")`\n",
            "  after removing the cwd from sys.path.\n"
          ],
          "name": "stderr"
        }
      ]
    },
    {
      "cell_type": "code",
      "metadata": {
        "id": "1s2H5p22dgMT",
        "colab_type": "code",
        "outputId": "a1d14215-e09e-4c8a-de67-5567795341bb",
        "colab": {
          "base_uri": "https://localhost:8080/",
          "height": 169
        }
      },
      "source": [
        "model.compile(optimizer = 'adam', loss = 'binary_crossentropy', metrics = ['accuracy'])"
      ],
      "execution_count": 30,
      "outputs": [
        {
          "output_type": "stream",
          "text": [
            "W0904 00:28:12.453171 140317550184320 deprecation_wrapper.py:119] From /usr/local/lib/python3.6/dist-packages/keras/optimizers.py:793: The name tf.train.Optimizer is deprecated. Please use tf.compat.v1.train.Optimizer instead.\n",
            "\n",
            "W0904 00:28:12.480992 140317550184320 deprecation_wrapper.py:119] From /usr/local/lib/python3.6/dist-packages/keras/backend/tensorflow_backend.py:3657: The name tf.log is deprecated. Please use tf.math.log instead.\n",
            "\n",
            "W0904 00:28:12.486943 140317550184320 deprecation.py:323] From /usr/local/lib/python3.6/dist-packages/tensorflow/python/ops/nn_impl.py:180: add_dispatch_support.<locals>.wrapper (from tensorflow.python.ops.array_ops) is deprecated and will be removed in a future version.\n",
            "Instructions for updating:\n",
            "Use tf.where in 2.0, which has the same broadcast rule as np.where\n"
          ],
          "name": "stderr"
        }
      ]
    },
    {
      "cell_type": "code",
      "metadata": {
        "id": "O3f2ELmndlob",
        "colab_type": "code",
        "outputId": "a4623145-a3c9-4bf7-8b55-17b6cc2137bc",
        "colab": {
          "base_uri": "https://localhost:8080/",
          "height": 1000
        }
      },
      "source": [
        "model.fit(X_train, y_train, batch_size = 32, nb_epoch = 50)"
      ],
      "execution_count": 31,
      "outputs": [
        {
          "output_type": "stream",
          "text": [
            "/usr/local/lib/python3.6/dist-packages/ipykernel_launcher.py:1: UserWarning: The `nb_epoch` argument in `fit` has been renamed `epochs`.\n",
            "  \"\"\"Entry point for launching an IPython kernel.\n",
            "W0904 00:28:51.217369 140317550184320 deprecation_wrapper.py:119] From /usr/local/lib/python3.6/dist-packages/keras/backend/tensorflow_backend.py:1033: The name tf.assign_add is deprecated. Please use tf.compat.v1.assign_add instead.\n",
            "\n"
          ],
          "name": "stderr"
        },
        {
          "output_type": "stream",
          "text": [
            "Epoch 1/50\n",
            "8000/8000 [==============================] - 1s 125us/step - loss: 0.6293 - acc: 0.7934\n",
            "Epoch 2/50\n",
            "8000/8000 [==============================] - 0s 35us/step - loss: 0.4534 - acc: 0.7960\n",
            "Epoch 3/50\n",
            "8000/8000 [==============================] - 0s 35us/step - loss: 0.4254 - acc: 0.7995\n",
            "Epoch 4/50\n",
            "8000/8000 [==============================] - 0s 35us/step - loss: 0.4076 - acc: 0.8142\n",
            "Epoch 5/50\n",
            "8000/8000 [==============================] - 0s 36us/step - loss: 0.3958 - acc: 0.8185\n",
            "Epoch 6/50\n",
            "8000/8000 [==============================] - 0s 36us/step - loss: 0.3888 - acc: 0.8194\n",
            "Epoch 7/50\n",
            "8000/8000 [==============================] - 0s 36us/step - loss: 0.3842 - acc: 0.8195\n",
            "Epoch 8/50\n",
            "8000/8000 [==============================] - 0s 35us/step - loss: 0.3801 - acc: 0.8196\n",
            "Epoch 9/50\n",
            "8000/8000 [==============================] - 0s 35us/step - loss: 0.3764 - acc: 0.8199\n",
            "Epoch 10/50\n",
            "8000/8000 [==============================] - 0s 37us/step - loss: 0.3735 - acc: 0.8195\n",
            "Epoch 11/50\n",
            "8000/8000 [==============================] - 0s 35us/step - loss: 0.3703 - acc: 0.8229\n",
            "Epoch 12/50\n",
            "8000/8000 [==============================] - 0s 35us/step - loss: 0.3677 - acc: 0.8365\n",
            "Epoch 13/50\n",
            "8000/8000 [==============================] - 0s 38us/step - loss: 0.3650 - acc: 0.8429\n",
            "Epoch 14/50\n",
            "8000/8000 [==============================] - 0s 35us/step - loss: 0.3622 - acc: 0.8459\n",
            "Epoch 15/50\n",
            "8000/8000 [==============================] - 0s 36us/step - loss: 0.3603 - acc: 0.8481\n",
            "Epoch 16/50\n",
            "8000/8000 [==============================] - 0s 36us/step - loss: 0.3587 - acc: 0.8496\n",
            "Epoch 17/50\n",
            "8000/8000 [==============================] - 0s 35us/step - loss: 0.3570 - acc: 0.8511\n",
            "Epoch 18/50\n",
            "8000/8000 [==============================] - 0s 36us/step - loss: 0.3558 - acc: 0.8527\n",
            "Epoch 19/50\n",
            "8000/8000 [==============================] - 0s 36us/step - loss: 0.3545 - acc: 0.8534\n",
            "Epoch 20/50\n",
            "8000/8000 [==============================] - 0s 40us/step - loss: 0.3537 - acc: 0.8546\n",
            "Epoch 21/50\n",
            "8000/8000 [==============================] - 0s 37us/step - loss: 0.3526 - acc: 0.8556\n",
            "Epoch 22/50\n",
            "8000/8000 [==============================] - 0s 37us/step - loss: 0.3520 - acc: 0.8558\n",
            "Epoch 23/50\n",
            "8000/8000 [==============================] - 0s 37us/step - loss: 0.3512 - acc: 0.8578\n",
            "Epoch 24/50\n",
            "8000/8000 [==============================] - 0s 36us/step - loss: 0.3506 - acc: 0.8576\n",
            "Epoch 25/50\n",
            "8000/8000 [==============================] - 0s 36us/step - loss: 0.3499 - acc: 0.8574\n",
            "Epoch 26/50\n",
            "8000/8000 [==============================] - 0s 35us/step - loss: 0.3496 - acc: 0.8575\n",
            "Epoch 27/50\n",
            "8000/8000 [==============================] - 0s 37us/step - loss: 0.3494 - acc: 0.8568\n",
            "Epoch 28/50\n",
            "8000/8000 [==============================] - 0s 40us/step - loss: 0.3484 - acc: 0.8586\n",
            "Epoch 29/50\n",
            "8000/8000 [==============================] - 0s 35us/step - loss: 0.3481 - acc: 0.8595\n",
            "Epoch 30/50\n",
            "8000/8000 [==============================] - 0s 35us/step - loss: 0.3475 - acc: 0.8586\n",
            "Epoch 31/50\n",
            "8000/8000 [==============================] - 0s 37us/step - loss: 0.3472 - acc: 0.8591\n",
            "Epoch 32/50\n",
            "8000/8000 [==============================] - 0s 37us/step - loss: 0.3471 - acc: 0.8582\n",
            "Epoch 33/50\n",
            "8000/8000 [==============================] - 0s 37us/step - loss: 0.3464 - acc: 0.8585\n",
            "Epoch 34/50\n",
            "8000/8000 [==============================] - 0s 40us/step - loss: 0.3465 - acc: 0.8594\n",
            "Epoch 35/50\n",
            "8000/8000 [==============================] - 0s 41us/step - loss: 0.3462 - acc: 0.8587\n",
            "Epoch 36/50\n",
            "8000/8000 [==============================] - 0s 38us/step - loss: 0.3457 - acc: 0.8599\n",
            "Epoch 37/50\n",
            "8000/8000 [==============================] - 0s 36us/step - loss: 0.3453 - acc: 0.8590\n",
            "Epoch 38/50\n",
            "8000/8000 [==============================] - 0s 38us/step - loss: 0.3454 - acc: 0.8605\n",
            "Epoch 39/50\n",
            "8000/8000 [==============================] - 0s 38us/step - loss: 0.3449 - acc: 0.8591\n",
            "Epoch 40/50\n",
            "8000/8000 [==============================] - 0s 35us/step - loss: 0.3447 - acc: 0.8585\n",
            "Epoch 41/50\n",
            "8000/8000 [==============================] - 0s 37us/step - loss: 0.3445 - acc: 0.8595\n",
            "Epoch 42/50\n",
            "8000/8000 [==============================] - 0s 39us/step - loss: 0.3445 - acc: 0.8606\n",
            "Epoch 43/50\n",
            "8000/8000 [==============================] - 0s 35us/step - loss: 0.3443 - acc: 0.8595\n",
            "Epoch 44/50\n",
            "8000/8000 [==============================] - 0s 39us/step - loss: 0.3439 - acc: 0.8598\n",
            "Epoch 45/50\n",
            "8000/8000 [==============================] - 0s 37us/step - loss: 0.3435 - acc: 0.8595\n",
            "Epoch 46/50\n",
            "8000/8000 [==============================] - 0s 36us/step - loss: 0.3439 - acc: 0.8592\n",
            "Epoch 47/50\n",
            "8000/8000 [==============================] - 0s 37us/step - loss: 0.3436 - acc: 0.8596\n",
            "Epoch 48/50\n",
            "8000/8000 [==============================] - 0s 39us/step - loss: 0.3433 - acc: 0.8591\n",
            "Epoch 49/50\n",
            "8000/8000 [==============================] - 0s 36us/step - loss: 0.3429 - acc: 0.8605\n",
            "Epoch 50/50\n",
            "8000/8000 [==============================] - 0s 39us/step - loss: 0.3429 - acc: 0.8604\n"
          ],
          "name": "stdout"
        },
        {
          "output_type": "execute_result",
          "data": {
            "text/plain": [
              "<keras.callbacks.History at 0x7f9df79beb70>"
            ]
          },
          "metadata": {
            "tags": []
          },
          "execution_count": 31
        }
      ]
    },
    {
      "cell_type": "code",
      "metadata": {
        "id": "RFcRoCmrsO3T",
        "colab_type": "code",
        "colab": {
          "base_uri": "https://localhost:8080/",
          "height": 281
        },
        "outputId": "276beba1-9458-456b-b41c-0f7aaf81eb38"
      },
      "source": [
        "model.summary()"
      ],
      "execution_count": 37,
      "outputs": [
        {
          "output_type": "stream",
          "text": [
            "Model: \"sequential_2\"\n",
            "_________________________________________________________________\n",
            "Layer (type)                 Output Shape              Param #   \n",
            "=================================================================\n",
            "dense_4 (Dense)              (None, 6)                 72        \n",
            "_________________________________________________________________\n",
            "dense_5 (Dense)              (None, 6)                 42        \n",
            "_________________________________________________________________\n",
            "dense_6 (Dense)              (None, 1)                 7         \n",
            "=================================================================\n",
            "Total params: 121\n",
            "Trainable params: 121\n",
            "Non-trainable params: 0\n",
            "_________________________________________________________________\n"
          ],
          "name": "stdout"
        }
      ]
    },
    {
      "cell_type": "code",
      "metadata": {
        "id": "_cHlglqvfVIo",
        "colab_type": "code",
        "outputId": "b4b84436-09a4-40ea-c7ad-bcad2bd6bf7f",
        "colab": {
          "base_uri": "https://localhost:8080/",
          "height": 55
        }
      },
      "source": [
        "model.evaluate(X_train,y_train)"
      ],
      "execution_count": 38,
      "outputs": [
        {
          "output_type": "stream",
          "text": [
            "8000/8000 [==============================] - 0s 18us/step\n"
          ],
          "name": "stdout"
        },
        {
          "output_type": "execute_result",
          "data": {
            "text/plain": [
              "[0.34146251165866853, 0.86075]"
            ]
          },
          "metadata": {
            "tags": []
          },
          "execution_count": 38
        }
      ]
    },
    {
      "cell_type": "code",
      "metadata": {
        "id": "wy72ahfafjIz",
        "colab_type": "code",
        "outputId": "27f5afab-4ece-4339-ccf8-2d509aa9ef18",
        "colab": {
          "base_uri": "https://localhost:8080/",
          "height": 55
        }
      },
      "source": [
        "model.evaluate(X_test,y_test)"
      ],
      "execution_count": 39,
      "outputs": [
        {
          "output_type": "stream",
          "text": [
            "2000/2000 [==============================] - 0s 24us/step\n"
          ],
          "name": "stdout"
        },
        {
          "output_type": "execute_result",
          "data": {
            "text/plain": [
              "[0.34038028240203855, 0.857]"
            ]
          },
          "metadata": {
            "tags": []
          },
          "execution_count": 39
        }
      ]
    },
    {
      "cell_type": "code",
      "metadata": {
        "id": "_xK6BqI9eDGe",
        "colab_type": "code",
        "colab": {}
      },
      "source": [
        "y_pred = model.predict_classes(X_test)"
      ],
      "execution_count": 0,
      "outputs": []
    },
    {
      "cell_type": "code",
      "metadata": {
        "id": "nc_DbeXueODo",
        "colab_type": "code",
        "outputId": "58676227-2fb8-4d96-d4bf-553a1cbc7f98",
        "colab": {
          "base_uri": "https://localhost:8080/",
          "height": 149
        }
      },
      "source": [
        "print(y_pred)"
      ],
      "execution_count": 52,
      "outputs": [
        {
          "output_type": "stream",
          "text": [
            "[[0]\n",
            " [0]\n",
            " [0]\n",
            " ...\n",
            " [0]\n",
            " [0]\n",
            " [0]]\n"
          ],
          "name": "stdout"
        }
      ]
    },
    {
      "cell_type": "code",
      "metadata": {
        "id": "kF9sQNPleSMt",
        "colab_type": "code",
        "colab": {}
      },
      "source": [
        "from sklearn.metrics import confusion_matrix"
      ],
      "execution_count": 0,
      "outputs": []
    },
    {
      "cell_type": "code",
      "metadata": {
        "id": "kZGfU9HCeWlk",
        "colab_type": "code",
        "colab": {}
      },
      "source": [
        "cm = confusion_matrix(y_test, y_pred)"
      ],
      "execution_count": 0,
      "outputs": []
    },
    {
      "cell_type": "code",
      "metadata": {
        "id": "eP6vRHkteaEJ",
        "colab_type": "code",
        "outputId": "d7b5d352-8ce4-459d-af75-0c1d82b85193",
        "colab": {
          "base_uri": "https://localhost:8080/",
          "height": 55
        }
      },
      "source": [
        "print(cm)"
      ],
      "execution_count": 55,
      "outputs": [
        {
          "output_type": "stream",
          "text": [
            "[[1510   85]\n",
            " [ 201  204]]\n"
          ],
          "name": "stdout"
        }
      ]
    },
    {
      "cell_type": "code",
      "metadata": {
        "id": "U9g5xFaqtFxD",
        "colab_type": "code",
        "colab": {}
      },
      "source": [
        "from sklearn import metrics"
      ],
      "execution_count": 0,
      "outputs": []
    },
    {
      "cell_type": "code",
      "metadata": {
        "id": "DjbmoODTeftO",
        "colab_type": "code",
        "colab": {
          "base_uri": "https://localhost:8080/",
          "height": 187
        },
        "outputId": "7b15e438-e5c6-4e0a-e86a-44ec0ada57aa"
      },
      "source": [
        "cr=metrics.classification_report(y_test,y_pred)\n",
        "print(cr)"
      ],
      "execution_count": 57,
      "outputs": [
        {
          "output_type": "stream",
          "text": [
            "              precision    recall  f1-score   support\n",
            "\n",
            "           0       0.88      0.95      0.91      1595\n",
            "           1       0.71      0.50      0.59       405\n",
            "\n",
            "    accuracy                           0.86      2000\n",
            "   macro avg       0.79      0.73      0.75      2000\n",
            "weighted avg       0.85      0.86      0.85      2000\n",
            "\n"
          ],
          "name": "stdout"
        }
      ]
    },
    {
      "cell_type": "code",
      "metadata": {
        "id": "KPrdxg2Sw7QB",
        "colab_type": "code",
        "colab": {}
      },
      "source": [
        ""
      ],
      "execution_count": 0,
      "outputs": []
    }
  ]
}