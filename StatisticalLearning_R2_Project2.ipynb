{
 "cells": [
  {
   "cell_type": "code",
   "execution_count": 19,
   "metadata": {},
   "outputs": [],
   "source": [
    "import pandas as pd\n",
    "import numpy as np\n",
    "from scipy.stats import ttest_1samp, ttest_ind, mannwhitneyu, levene, shapiro\n",
    "from statsmodels.stats.power import ttest_power\n",
    "from scipy import stats"
   ]
  },
  {
   "cell_type": "code",
   "execution_count": 2,
   "metadata": {},
   "outputs": [
    {
     "data": {
      "text/html": [
       "<div>\n",
       "<style scoped>\n",
       "    .dataframe tbody tr th:only-of-type {\n",
       "        vertical-align: middle;\n",
       "    }\n",
       "\n",
       "    .dataframe tbody tr th {\n",
       "        vertical-align: top;\n",
       "    }\n",
       "\n",
       "    .dataframe thead th {\n",
       "        text-align: right;\n",
       "    }\n",
       "</style>\n",
       "<table border=\"1\" class=\"dataframe\">\n",
       "  <thead>\n",
       "    <tr style=\"text-align: right;\">\n",
       "      <th></th>\n",
       "      <th>SALESPERSON</th>\n",
       "      <th>Old Scheme (in thousands)</th>\n",
       "      <th>New Scheme (in thousands)</th>\n",
       "    </tr>\n",
       "  </thead>\n",
       "  <tbody>\n",
       "    <tr>\n",
       "      <th>0</th>\n",
       "      <td>1</td>\n",
       "      <td>57</td>\n",
       "      <td>62</td>\n",
       "    </tr>\n",
       "    <tr>\n",
       "      <th>1</th>\n",
       "      <td>2</td>\n",
       "      <td>103</td>\n",
       "      <td>122</td>\n",
       "    </tr>\n",
       "    <tr>\n",
       "      <th>2</th>\n",
       "      <td>3</td>\n",
       "      <td>59</td>\n",
       "      <td>54</td>\n",
       "    </tr>\n",
       "    <tr>\n",
       "      <th>3</th>\n",
       "      <td>4</td>\n",
       "      <td>75</td>\n",
       "      <td>82</td>\n",
       "    </tr>\n",
       "    <tr>\n",
       "      <th>4</th>\n",
       "      <td>5</td>\n",
       "      <td>84</td>\n",
       "      <td>84</td>\n",
       "    </tr>\n",
       "  </tbody>\n",
       "</table>\n",
       "</div>"
      ],
      "text/plain": [
       "   SALESPERSON  Old Scheme (in thousands)  New Scheme (in thousands)\n",
       "0            1                         57                         62\n",
       "1            2                        103                        122\n",
       "2            3                         59                         54\n",
       "3            4                         75                         82\n",
       "4            5                         84                         84"
      ]
     },
     "execution_count": 2,
     "metadata": {},
     "output_type": "execute_result"
    }
   ],
   "source": [
    "ins_data = pd.read_csv(\"data.csv\")\n",
    "ins_data.head()"
   ]
  },
  {
   "cell_type": "code",
   "execution_count": 41,
   "metadata": {},
   "outputs": [
    {
     "name": "stdout",
     "output_type": "stream",
     "text": [
      "Answer 1\n",
      "Mean Old Scheme 68033.33333333333\n",
      "Mean New Scheme 72033.33333333333\n"
     ]
    }
   ],
   "source": [
    "print(\"Answer 1\")\n",
    "print('Mean Old Scheme',ins_data[\"Old Scheme (in thousands)\"].mean()*1000)\n",
    "print('Mean New Scheme',ins_data[\"New Scheme (in thousands)\"].mean()*1000)"
   ]
  },
  {
   "cell_type": "code",
   "execution_count": 26,
   "metadata": {},
   "outputs": [
    {
     "data": {
      "text/plain": [
       "(0.9687567353248596, 0.5057420134544373)"
      ]
     },
     "execution_count": 26,
     "metadata": {},
     "output_type": "execute_result"
    }
   ],
   "source": [
    "#Ho = Data is normal\n",
    "#Ha = Data is not normal\n",
    "shapiro(ins_data[\"New Scheme (in thousands)\"])"
   ]
  },
  {
   "cell_type": "code",
   "execution_count": 35,
   "metadata": {},
   "outputs": [
    {
     "name": "stdout",
     "output_type": "stream",
     "text": [
      "Answer 2\n",
      "Ttest_indResult(statistic=0.6937067608923764, pvalue=0.4907066557404972)\n"
     ]
    }
   ],
   "source": [
    "#Ho = Mean of New Scheme is equal to Mean of Old Scheme\n",
    "#Ha = Mean of New Scheme is greater than mean of old scheme\n",
    "results = stats.ttest_ind(ins_data[\"New Scheme (in thousands)\"],ins_data[\"Old Scheme (in thousands)\"], equal_var=False)\n",
    "print(\"Answer 2\")\n",
    "print(results)"
   ]
  },
  {
   "cell_type": "code",
   "execution_count": 36,
   "metadata": {},
   "outputs": [
    {
     "name": "stdout",
     "output_type": "stream",
     "text": [
      "Answer 3\n",
      "Accept Ho, Mean of New Scheme is equal to Mean of Old Scheme\n"
     ]
    }
   ],
   "source": [
    "print(\"Answer 3\")\n",
    "alpha = 0.05\n",
    "if (results[0] > 0) & (results[1]/2 < alpha):\n",
    "    print(\"Reject Ho, Mean of New Scheme is greater than mean of old scheme\")\n",
    "else:\n",
    "    print(\"Accept Ho, Mean of New Scheme is equal to Mean of Old Scheme\")"
   ]
  },
  {
   "cell_type": "code",
   "execution_count": 37,
   "metadata": {},
   "outputs": [],
   "source": [
    "from scipy.stats import levene, shapiro, f_oneway\n",
    "from statsmodels.stats.multicomp import pairwise_tukeyhsd, MultiComparison\n",
    "import matplotlib.pyplot as plt\n",
    "from statsmodels.formula.api import ols\n",
    "from statsmodels.stats.anova import anova_lm"
   ]
  },
  {
   "cell_type": "code",
   "execution_count": 42,
   "metadata": {},
   "outputs": [
    {
     "data": {
      "text/plain": [
       "73.03333333333333"
      ]
     },
     "execution_count": 42,
     "metadata": {},
     "output_type": "execute_result"
    }
   ],
   "source": [
    "target = ins_data[\"Old Scheme (in thousands)\"].mean()+5\n",
    "target"
   ]
  },
  {
   "cell_type": "code",
   "execution_count": 50,
   "metadata": {},
   "outputs": [
    {
     "name": "stdout",
     "output_type": "stream",
     "text": [
      "-0.22762595274354191 0.8215342661375444\n"
     ]
    }
   ],
   "source": [
    "# Target = 73.033333 (In Thousands)\n",
    "#Ho = Mean of New Scheme is equal to target\n",
    "#Ha = Mean of New Scheme is different from target\n",
    "t_statistic, p_value = ttest_1samp(ins_data[\"New Scheme (in thousands)\"], target)\n",
    "print(t_statistic,p_value)"
   ]
  },
  {
   "cell_type": "code",
   "execution_count": 51,
   "metadata": {},
   "outputs": [
    {
     "name": "stdout",
     "output_type": "stream",
     "text": [
      "Answer 4(a) the probability of Type I error is 5%\n",
      "Answer 4(b) p- value of the hypothesis test if we test for a difference of $5000 = 0.8215342661375444\n"
     ]
    }
   ],
   "source": [
    "print('Answer 4(a) the probability of Type I error is 5%')\n",
    "print('Answer 4(b) p- value of the hypothesis test if we test for a difference of $5000 =',p_value)"
   ]
  },
  {
   "cell_type": "code",
   "execution_count": 52,
   "metadata": {},
   "outputs": [
    {
     "name": "stdout",
     "output_type": "stream",
     "text": [
      "Answer 4(c)Power of the test\n",
      "0.05576508681893363\n"
     ]
    }
   ],
   "source": [
    "print('Answer 4(c)Power of the test')\n",
    "j=(np.mean(ins_data[\"New Scheme (in thousands)\"]) - target) / np.std(ins_data[\"New Scheme (in thousands)\"])\n",
    "print(ttest_power(j, nobs=30, alpha=0.05, alternative='two-sided'))"
   ]
  },
  {
   "cell_type": "code",
   "execution_count": null,
   "metadata": {},
   "outputs": [],
   "source": [
    "\n"
   ]
  }
 ],
 "metadata": {
  "kernelspec": {
   "display_name": "Python 3",
   "language": "python",
   "name": "python3"
  },
  "language_info": {
   "codemirror_mode": {
    "name": "ipython",
    "version": 3
   },
   "file_extension": ".py",
   "mimetype": "text/x-python",
   "name": "python",
   "nbconvert_exporter": "python",
   "pygments_lexer": "ipython3",
   "version": "3.7.1"
  }
 },
 "nbformat": 4,
 "nbformat_minor": 2
}
